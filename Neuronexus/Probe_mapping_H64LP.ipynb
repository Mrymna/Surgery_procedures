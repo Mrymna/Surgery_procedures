{
 "cells": [
  {
   "cell_type": "markdown",
   "id": "9bd9d1a6-deba-4999-95a2-89fa8af82950",
   "metadata": {},
   "source": [
    "# Probe mapping for H64LP probes"
   ]
  },
  {
   "cell_type": "markdown",
   "id": "d9804dd0-4344-4d06-8451-0b26f4a39c77",
   "metadata": {},
   "source": [
    "This script creates a dictionary to match the probe channels with the intan channels. This is used to create the ktan.recording.channels and ktan.oscilloscope.group.channels files."
   ]
  },
  {
   "cell_type": "markdown",
   "id": "10e40d10-8d73-4578-b093-e408629989f6",
   "metadata": {},
   "source": [
    "The label on the pcb plate points towards the front of the mouse. The intan chip on the amplifier also points towards the front."
   ]
  },
  {
   "cell_type": "code",
   "execution_count": 1,
   "id": "f6f5e416-7159-4e6d-ab20-76fac4b30a56",
   "metadata": {},
   "outputs": [],
   "source": [
    "probe_channels = [28,26,25,23,22,20,19,17,48,46,45,43,42,40,39,37,\n",
    "                 29,27,30,24,31,21,32,18,47,33,44,34,41,35,38,36,\n",
    "                 1,3,5,7,9,11,13,15,50,52,54,56,58,60,62,64,\n",
    "                 2,4,6,8,10,12,14,16,49,51,53,55,57,59,61,63]"
   ]
  },
  {
   "cell_type": "code",
   "execution_count": 2,
   "id": "c70d17e9-3133-464a-9e1a-12b5993be15f",
   "metadata": {},
   "outputs": [],
   "source": [
    "intan_channels = [46,44,42,40,38,36,34,32,30,28,26,24,22,20,18,16,\n",
    "                 47,45,43,41,39,37,35,33,31,29,27,25,23,21,19,17,\n",
    "                 49,51,53,55,57,59,61,63,1,3,5,7,9,11,13,15,\n",
    "                 48,50,52,54,56,58,60,62,0,2,4,6,8,10,12,14]"
   ]
  },
  {
   "cell_type": "code",
   "execution_count": 3,
   "id": "f283f6f9-a86e-42e9-9888-a450333cba5c",
   "metadata": {},
   "outputs": [
    {
     "name": "stdout",
     "output_type": "stream",
     "text": [
      "{28: 46, 26: 44, 25: 42, 23: 40, 22: 38, 20: 36, 19: 34, 17: 32, 48: 30, 46: 28, 45: 26, 43: 24, 42: 22, 40: 20, 39: 18, 37: 16, 29: 47, 27: 45, 30: 43, 24: 41, 31: 39, 21: 37, 32: 35, 18: 33, 47: 31, 33: 29, 44: 27, 34: 25, 41: 23, 35: 21, 38: 19, 36: 17, 1: 49, 3: 51, 5: 53, 7: 55, 9: 57, 11: 59, 13: 61, 15: 63, 50: 1, 52: 3, 54: 5, 56: 7, 58: 9, 60: 11, 62: 13, 64: 15, 2: 48, 4: 50, 6: 52, 8: 54, 10: 56, 12: 58, 14: 60, 16: 62, 49: 0, 51: 2, 53: 4, 55: 6, 57: 8, 59: 10, 61: 12, 63: 14}\n"
     ]
    }
   ],
   "source": [
    "# create a dictionary\n",
    "probe_intan_list = [(p, i) for p,i in zip(probe_channels, intan_channels)]\n",
    "probe_intan_dict = dict(probe_intan_list)\n",
    "print(probe_intan_dict)"
   ]
  },
  {
   "cell_type": "code",
   "execution_count": 5,
   "id": "ca0445d0-a1ad-4cfb-a89f-159819c699e3",
   "metadata": {},
   "outputs": [],
   "source": [
    "# create a file with the intan channels in the desired order\n",
    "my_order_probe = [1,2,3,4,5,6,7,8,9,10,11,12,13,14,15,16,\n",
    "            17,18,19,20,21,22,23,24,25,26,27,28,29,30,31,32,\n",
    "            33,34,35,36,37,38,39,40,41,42,43,44,45,46,47,48,\n",
    "            49,50,51,52,53,54,55,56,57,58,59,60,61,62,63,64]\n",
    "my_order_intan = [probe_intan_dict[p] for p in my_order_probe]\n",
    "with open(r\"H64LP_intan_ordered\", \"w\", encoding = \"utf8\") as file:\n",
    "    for p in my_order_probe:\n",
    "        file.write(f\"{probe_intan_dict[p]}\\n\")\n",
    "    file.write(\"65\\n\") # add tracking channel"
   ]
  },
  {
   "cell_type": "code",
   "execution_count": 7,
   "id": "00808ce5-a0e1-4902-9eda-221f874bf60e",
   "metadata": {},
   "outputs": [],
   "source": [
    "# create a file with the oscilloscope channels and the corresponding intan channels\n",
    "osc_channel = 0\n",
    "with open(r\"H64LP_intan_oscilloscope\", \"w\", encoding = \"utf8\") as file:\n",
    "    counter = 0\n",
    "    file.write(\"0 56\\n0 60\\n0 44\\n0 43\\n0 22\\n0 28\\n0 9\\n0 13\\n0 65\\n\") # summary of channels + tracking\n",
    "    osc_channel += 1\n",
    "    for p in sorted(probe_channels):\n",
    "        file.write(f\"{osc_channel} {probe_intan_dict[p]}\\n\")\n",
    "        counter += 1\n",
    "        if not counter%16: # 16 channels per oscilloscope group\n",
    "            osc_channel += 1\n",
    "    "
   ]
  }
 ],
 "metadata": {
  "kernelspec": {
   "display_name": "Python 3 (ipykernel)",
   "language": "python",
   "name": "python3"
  },
  "language_info": {
   "codemirror_mode": {
    "name": "ipython",
    "version": 3
   },
   "file_extension": ".py",
   "mimetype": "text/x-python",
   "name": "python",
   "nbconvert_exporter": "python",
   "pygments_lexer": "ipython3",
   "version": "3.8.10"
  }
 },
 "nbformat": 4,
 "nbformat_minor": 5
}
